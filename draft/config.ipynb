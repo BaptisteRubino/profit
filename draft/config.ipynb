{
 "cells": [
  {
   "cell_type": "code",
   "execution_count": 7,
   "metadata": {},
   "outputs": [
    {
     "output_type": "stream",
     "name": "stdout",
     "text": "[(64,  4, 16) (40, 13,  3) (28,  6, 11) (24,  4,  7) (21,  3,  4)\n (20,  3,  4) (19,  3,  3) (19,  3,  3) (18,  3,  3) (18,  2,  3)\n (17,  2,  3) (17,  2,  3) (17,  2,  2) (17,  2,  2) (17,  2,  2)\n (17,  2,  2) (17,  2,  2) (17,  2,  2) (17,  2,  2) (17,  2,  2)\n (17,  2,  2) (17,  2,  2) (17,  2,  2) (17,  2,  2) (16,  2,  2)\n (16,  2,  2) (16,  2,  2) (16,  2,  2) (16,  2,  2) (16,  2,  2)]\n"
    }
   ],
   "source": [
    "import profit\n",
    "config = profit.Config.from_file('profit_int.yaml')\n",
    "inputs = config['variables']\n",
    "[(key, inputs[key]['dtype']) for key in inputs.keys()]\n",
    "eval_points = profit.util.get_eval_points(config)\n",
    "print(eval_points)"
   ]
  },
  {
   "cell_type": "code",
   "execution_count": 4,
   "metadata": {},
   "outputs": [
    {
     "output_type": "execute_result",
     "data": {
      "text/plain": "(10, 3)"
     },
     "metadata": {},
     "execution_count": 4
    }
   ],
   "source": [
    "from profit.util.halton import halton\n",
    "halton(3, 10).shape"
   ]
  },
  {
   "cell_type": "code",
   "execution_count": null,
   "metadata": {},
   "outputs": [],
   "source": []
  }
 ],
 "metadata": {
  "language_info": {
   "codemirror_mode": {
    "name": "ipython",
    "version": 3
   },
   "file_extension": ".py",
   "mimetype": "text/x-python",
   "name": "python",
   "nbconvert_exporter": "python",
   "pygments_lexer": "ipython3",
   "version": "3.8.3-final"
  },
  "orig_nbformat": 2,
  "kernelspec": {
   "name": "python38264bitee8223ec65594bc885f48f30722f6205",
   "display_name": "Python 3.8.2 64-bit"
  }
 },
 "nbformat": 4,
 "nbformat_minor": 2
}