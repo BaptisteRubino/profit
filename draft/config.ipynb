{
 "cells": [
  {
   "cell_type": "code",
   "execution_count": 164,
   "metadata": {},
   "outputs": [
    {
     "output_type": "stream",
     "name": "stdout",
     "text": "[( 45,  4,  4) (181,  9,  7) ( 19, 24, 12) ( 76,  2, 21) ( 38,  6,  2)\n (152, 14,  4) ( 27,  3,  8) (108,  8, 13) ( 54, 19, 23) (215,  4,  3)\n ( 17, 10,  5) ( 70, 26,  8) ( 35,  2, 15) (140,  6, 26) ( 25, 16,  3)\n ( 99,  3,  5) ( 49,  8,  9) (197, 21, 16) ( 21,  5, 29) ( 83, 11,  2)\n ( 41, 29,  4) (166,  2,  6) ( 29,  5, 11) (117, 13, 19) ( 59,  3,  2)\n (235,  7,  4) ( 17, 18,  7) ( 67,  4, 12) ( 33, 10, 21) (134, 24,  3)]\n"
    }
   ],
   "source": [
    "import profit\n",
    "config = profit.Config()\n",
    "config.load('profit_int.yaml')\n",
    "inputs = config['variables']\n",
    "[(key, inputs[key]['dtype']) for key in inputs.keys()]\n",
    "eval_points = profit.util.get_eval_points(config)\n",
    "print(eval_points)"
   ]
  },
  {
   "cell_type": "code",
   "execution_count": null,
   "metadata": {},
   "outputs": [],
   "source": []
  }
 ],
 "metadata": {
  "language_info": {
   "codemirror_mode": {
    "name": "ipython",
    "version": 3
   },
   "file_extension": ".py",
   "mimetype": "text/x-python",
   "name": "python",
   "nbconvert_exporter": "python",
   "pygments_lexer": "ipython3",
   "version": "3.8.2-final"
  },
  "orig_nbformat": 2,
  "kernelspec": {
   "name": "python38264bitee8223ec65594bc885f48f30722f6205",
   "display_name": "Python 3.8.2 64-bit"
  }
 },
 "nbformat": 4,
 "nbformat_minor": 2
}